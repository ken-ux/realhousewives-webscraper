{
 "cells": [
  {
   "cell_type": "markdown",
   "id": "2ec49ea0",
   "metadata": {},
   "source": [
    "# Table Scraping Seasons\n",
    "## Import Libraries and URL List"
   ]
  },
  {
   "cell_type": "code",
   "execution_count": 1,
   "id": "67c59fc1",
   "metadata": {},
   "outputs": [],
   "source": [
    "import pandas as pd\n",
    "from urllib.request import urlopen\n",
    "from bs4 import BeautifulSoup\n",
    "url_list = pd.read_csv('./data/season_urls.csv')"
   ]
  },
  {
   "cell_type": "markdown",
   "id": "6c252291",
   "metadata": {},
   "source": [
    "## Print Seasons from Series"
   ]
  },
  {
   "cell_type": "code",
   "execution_count": null,
   "id": "e33779d4",
   "metadata": {
    "scrolled": false
   },
   "outputs": [],
   "source": [
    "for index, row in url_list.iterrows():\n",
    "    series = row['Series']\n",
    "    # print(series)\n",
    "    soup = BeautifulSoup(urlopen(row['URL']))\n",
    "    table = soup.find(class_='wikitable')\n",
    "    rows = table.find_all('tr')\n",
    "    for row in rows[2:]:\n",
    "        season_number = row.find('th').text\n",
    "        tds = row.find_all('td')\n",
    "        premiere_date = tds[1].span.text.strip()\n",
    "        premiere_date = premiere_date[1:-1] # Removes parentheses around date.\n",
    "        \n",
    "        finale_date = tds[2].span\n",
    "        \n",
    "        # Check if the season has finished airing.\n",
    "        if hasattr(finale_date, 'text'):\n",
    "            finale_date = finale_date.text.strip()\n",
    "            finale_date = finale_date[1:-1]\n",
    "        else:\n",
    "            finale_date = 'NULL'\n",
    "        # print(f\"Season {season_number} premiered on {premiere_date} and ended on {finale_date}\")\n",
    "        print(\n",
    "f\"\"\"(\n",
    "    '{series}',\n",
    "    {season_number},\n",
    "    '{premiere_date}',\n",
    "    '{finale_date}'\n",
    "),\"\"\")"
   ]
  }
 ],
 "metadata": {
  "kernelspec": {
   "display_name": "base",
   "language": "python",
   "name": "python3"
  },
  "language_info": {
   "codemirror_mode": {
    "name": "ipython",
    "version": 3
   },
   "file_extension": ".py",
   "mimetype": "text/x-python",
   "name": "python",
   "nbconvert_exporter": "python",
   "pygments_lexer": "ipython3",
   "version": "3.8.8"
  }
 },
 "nbformat": 4,
 "nbformat_minor": 5
}
