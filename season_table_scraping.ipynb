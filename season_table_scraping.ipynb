{
 "cells": [
  {
   "cell_type": "code",
   "execution_count": 1,
   "id": "67c59fc1",
   "metadata": {},
   "outputs": [],
   "source": [
    "import pandas as pd\n",
    "from urllib.request import urlopen\n",
    "import requests\n",
    "from bs4 import BeautifulSoup"
   ]
  },
  {
   "cell_type": "markdown",
   "id": "6c252291",
   "metadata": {},
   "source": [
    "# Open list of URLs and print out episode titles and dates."
   ]
  },
  {
   "cell_type": "code",
   "execution_count": 2,
   "id": "e33779d4",
   "metadata": {
    "scrolled": false
   },
   "outputs": [
    {
     "name": "stdout",
     "output_type": "stream",
     "text": [
      "Season 1 premiered on 2008-10-07 and ended on 2008-11-25\n",
      "Season 2 premiered on 2009-07-30 and ended on 2009-11-12\n",
      "Season 3 premiered on 2010-10-04 and ended on 2011-02-20\n",
      "Season 4 premiered on 2011-11-06 and ended on 2012-04-22\n",
      "Season 5 premiered on 2012-11-04 and ended on 2013-04-28\n",
      "Season 6 premiered on 2013-11-03 and ended on 2014-05-18\n",
      "Season 7 premiered on 2014-11-09 and ended on 2015-05-10\n",
      "Season 8 premiered on 2015-11-08 and ended on 2016-04-10\n",
      "Season 9 premiered on 2016-11-06 and ended on 2017-05-14\n",
      "Season 10 premiered on 2017-11-05 and ended on 2018-04-29\n",
      "Season 11 premiered on 2018-11-04 and ended on 2019-05-12\n",
      "Season 12 premiered on 2019-11-03 and ended on 2020-05-24\n",
      "Season 13 premiered on 2020-12-06 and ended on 2021-05-09\n",
      "Season 14 premiered on 2022-05-01 and ended on 2022-09-25\n",
      "Season 15 premiered on 2023-05-07 and ended on 2023-09-10\n",
      "Season 16 premiered on 2025-03-09 and ended on TBA\n"
     ]
    }
   ],
   "source": [
    "url_list = pd.read_csv('./season_urls.csv')\n",
    "for index, row in url_list.iterrows():\n",
    "    soup = BeautifulSoup(urlopen(row['URL']))\n",
    "    table = soup.find(class_='wikitable')\n",
    "    rows = table.find_all('tr')\n",
    "    for row in rows[2:]:\n",
    "        season_number = row.find('th').text\n",
    "        tds = row.find_all('td')\n",
    "        premiere_date = tds[1].span.text.strip()\n",
    "        premiere_date = premiere_date[1:-1] # Removes parentheses around date.\n",
    "        \n",
    "        finale_date = tds[2].span\n",
    "        \n",
    "        # Check if the season has finished airing.\n",
    "        if hasattr(finale_date, 'text'):\n",
    "            finale_date = finale_date.text.strip()\n",
    "            finale_date = finale_date[1:-1]\n",
    "        else:\n",
    "            finale_date = 'TBA'\n",
    "        print(f\"Season {season_number} premiered on {premiere_date} and ended on {finale_date}\")"
   ]
  },
  {
   "cell_type": "code",
   "execution_count": 9,
   "id": "2e267f51",
   "metadata": {},
   "outputs": [
    {
     "name": "stdout",
     "output_type": "stream",
     "text": [
      "The Real Housewives of Atlanta season 1 episodes\n",
      "The Real Housewives of Atlanta season 2 episodes\n",
      "The Real Housewives of Atlanta season 3 episodes\n",
      "The Real Housewives of Atlanta season 4 episodes\n",
      "The Real Housewives of Atlanta season 5 episodes\n",
      "The Real Housewives of Atlanta season 6 episodes\n",
      "The Real Housewives of Atlanta season 7 episodes\n",
      "The Real Housewives of Atlanta season 8 episodes\n",
      "The Real Housewives of Atlanta season 9 episodes\n",
      "The Real Housewives of Atlanta season 10 episodes\n",
      "The Real Housewives of Atlanta season 11 episodes\n",
      "The Real Housewives of Atlanta season 12 episodes\n",
      "The Real Housewives of Atlanta season 13 episodes\n",
      "The Real Housewives of Atlanta season 14 episodes\n",
      "The Real Housewives of Atlanta season 15 episodes\n",
      "The Real Housewives of Atlanta season 16 episodes\n"
     ]
    }
   ],
   "source": [
    "for index, row in url_list.iterrows():\n",
    "    soup = BeautifulSoup(urlopen(row['URL']))\n",
    "    tables = soup.find_all(class_='wikiepisodetable')\n",
    "    for table in tables:\n",
    "        title = table.caption.text\n",
    "        print(title)"
   ]
  }
 ],
 "metadata": {
  "kernelspec": {
   "display_name": "base",
   "language": "python",
   "name": "python3"
  },
  "language_info": {
   "codemirror_mode": {
    "name": "ipython",
    "version": 3
   },
   "file_extension": ".py",
   "mimetype": "text/x-python",
   "name": "python",
   "nbconvert_exporter": "python",
   "pygments_lexer": "ipython3",
   "version": "3.8.8"
  }
 },
 "nbformat": 4,
 "nbformat_minor": 5
}
