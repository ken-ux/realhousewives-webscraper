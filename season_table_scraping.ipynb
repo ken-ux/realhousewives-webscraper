{
 "cells": [
  {
   "cell_type": "markdown",
   "id": "2ec49ea0",
   "metadata": {},
   "source": [
    "# Table Scraping Seasons and Episodes of Each Series\n",
    "## Import Libraries and URL List"
   ]
  },
  {
   "cell_type": "code",
   "execution_count": 17,
   "id": "67c59fc1",
   "metadata": {},
   "outputs": [],
   "source": [
    "import pandas as pd\n",
    "from urllib.request import urlopen\n",
    "from bs4 import BeautifulSoup\n",
    "url_list = pd.read_csv('./data/series_urls.csv')"
   ]
  },
  {
   "cell_type": "markdown",
   "id": "6c252291",
   "metadata": {},
   "source": [
    "## Print seasons from each series."
   ]
  },
  {
   "cell_type": "code",
   "execution_count": null,
   "id": "e33779d4",
   "metadata": {
    "scrolled": false
   },
   "outputs": [],
   "source": [
    "for index, row in url_list.iterrows():\n",
    "    series = row['Series']\n",
    "    # print(series)\n",
    "    soup = BeautifulSoup(urlopen(row['URL']))\n",
    "    table = soup.find(class_='wikitable')\n",
    "    rows = table.find_all('tr')\n",
    "    for row in rows[2:]:\n",
    "        season_number = row.find('th').text\n",
    "        tds = row.find_all('td')\n",
    "        premiere_date = tds[1].span.text.strip()\n",
    "        premiere_date = premiere_date[1:-1] # Removes parentheses around date.\n",
    "        \n",
    "        finale_date = tds[2].span\n",
    "        \n",
    "        # Check if the season has finished airing.\n",
    "        if hasattr(finale_date, 'text'):\n",
    "            finale_date = finale_date.text.strip()\n",
    "            finale_date = finale_date[1:-1]\n",
    "        else:\n",
    "            finale_date = 'NULL'\n",
    "        # print(f\"Season {season_number} premiered on {premiere_date} and ended on {finale_date}\")\n",
    "        print(\n",
    "f\"\"\"(\n",
    "    '{series}',\n",
    "    {season_number},\n",
    "    '{premiere_date}',\n",
    "    '{finale_date}'\n",
    "),\"\"\")"
   ]
  },
  {
   "cell_type": "markdown",
   "id": "f99b8f5d",
   "metadata": {},
   "source": [
    "## Print out episodes from each season."
   ]
  },
  {
   "cell_type": "code",
   "execution_count": null,
   "id": "2e267f51",
   "metadata": {},
   "outputs": [],
   "source": [
    "for index, row in url_list.iterrows():\n",
    "    series = row['Series']\n",
    "    # print(series)\n",
    "    soup = BeautifulSoup(urlopen(row['URL']))\n",
    "    tables = soup.find_all(class_='wikiepisodetable')\n",
    "    for table in tables:\n",
    "        season_number = table.caption.text\n",
    "        season_number = season_number.replace(' episodes', '')\n",
    "        season_number = season_number[-2:].strip()\n",
    "        # print(f\"Season {season_number}\")\n",
    "        rows = table.find_all('tr', class_='vevent')\n",
    "        for row in rows:\n",
    "            tds = row.find_all('td')\n",
    "            episode_number = tds[0].text\n",
    "            title = tds[1].text[1:-1] # Indexes exclude first and last character of string\n",
    "            title = title.replace(\"'\", \"''\") # Use double apostrophes or error would occur in SQL inserts\n",
    "            date = tds[2].span.text.strip()\n",
    "            date = date[1:-1]\n",
    "            # print(f\"Episode {episode_number}: {title}, {date}\")\n",
    "            print(\n",
    "f\"\"\"(\n",
    "    (\n",
    "        SELECT\n",
    "            season_id\n",
    "        FROM\n",
    "            seasons\n",
    "        WHERE\n",
    "            series_id = '{series}'\n",
    "            AND season_number = {season_number}\n",
    "    ),\n",
    "    {episode_number},\n",
    "    '{title}',\n",
    "    '{date}'\n",
    "),\"\"\")"
   ]
  }
 ],
 "metadata": {
  "kernelspec": {
   "display_name": "base",
   "language": "python",
   "name": "python3"
  },
  "language_info": {
   "codemirror_mode": {
    "name": "ipython",
    "version": 3
   },
   "file_extension": ".py",
   "mimetype": "text/x-python",
   "name": "python",
   "nbconvert_exporter": "python",
   "pygments_lexer": "ipython3",
   "version": "3.8.8"
  }
 },
 "nbformat": 4,
 "nbformat_minor": 5
}
