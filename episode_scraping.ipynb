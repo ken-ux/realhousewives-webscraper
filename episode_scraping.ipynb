{
 "cells": [
  {
   "cell_type": "markdown",
   "id": "509fe5e9",
   "metadata": {},
   "source": [
    "# Episodes\n",
    "\n",
    "Prints episode information from the Real Housewives franchise.\n",
    "\n",
    "## Import Libraries"
   ]
  },
  {
   "cell_type": "code",
   "execution_count": 3,
   "id": "67c59fc1",
   "metadata": {},
   "outputs": [],
   "source": [
    "import pandas as pd\n",
    "from urllib.request import urlopen\n",
    "from bs4 import BeautifulSoup\n",
    "url_list = pd.read_csv('./data/season_urls.csv')"
   ]
  },
  {
   "cell_type": "markdown",
   "id": "6c252291",
   "metadata": {},
   "source": [
    "## Scrape Table Data and Print"
   ]
  },
  {
   "cell_type": "code",
   "execution_count": null,
   "id": "e33779d4",
   "metadata": {
    "scrolled": false
   },
   "outputs": [],
   "source": [
    "# Loop through the list of URLs for each series.\n",
    "for index, row in url_list.iterrows():\n",
    "    series = row['Series']\n",
    "    soup = BeautifulSoup(urlopen(row['URL']))\n",
    "    tables = soup.find_all(class_='wikiepisodetable')\n",
    "\n",
    "    # Loop through each table summarizing one season of the series.\n",
    "    for table in tables:\n",
    "        season_number = table.caption.text\n",
    "        season_number = season_number.replace(' episodes', '')\n",
    "        season_number = season_number[-2:].strip()\n",
    "        rows = table.find_all('tr', class_='vevent')\n",
    "\n",
    "        # Loop through each row summarizing one episode of the season.\n",
    "        for row in rows:\n",
    "            tds = row.find_all('td')\n",
    "            episode_number = tds[0].text\n",
    "\n",
    "            # Format string to remove quotation marks that border the title\n",
    "            # then replace apostrophes with double apostrophes to avoid SQL syntax errors.\n",
    "            title = tds[1].text[1:-1]\n",
    "            title = title.replace(\"'\", \"''\")\n",
    "\n",
    "            # Format string to remove parentheses that border the date.\n",
    "            date = tds[2].span.text.strip()\n",
    "            date = date[1:-1]\n",
    "\n",
    "            print(\n",
    "f\"\"\"(\n",
    "    (\n",
    "        SELECT\n",
    "            season_id\n",
    "        FROM\n",
    "            seasons\n",
    "        WHERE\n",
    "            series_id = '{series}'\n",
    "            AND season_number = {season_number}\n",
    "    ),\n",
    "    {episode_number},\n",
    "    '{title}',\n",
    "    '{date}'\n",
    "),\"\"\")"
   ]
  }
 ],
 "metadata": {
  "kernelspec": {
   "display_name": "base",
   "language": "python",
   "name": "python3"
  },
  "language_info": {
   "codemirror_mode": {
    "name": "ipython",
    "version": 3
   },
   "file_extension": ".py",
   "mimetype": "text/x-python",
   "name": "python",
   "nbconvert_exporter": "python",
   "pygments_lexer": "ipython3",
   "version": "3.8.8"
  }
 },
 "nbformat": 4,
 "nbformat_minor": 5
}
