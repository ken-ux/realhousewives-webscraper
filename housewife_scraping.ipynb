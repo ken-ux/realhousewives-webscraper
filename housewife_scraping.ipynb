{
 "cells": [
  {
   "cell_type": "code",
   "execution_count": 38,
   "id": "f6b2d45f",
   "metadata": {},
   "outputs": [],
   "source": [
    "import pandas as pd\n",
    "from urllib.request import urlopen\n",
    "from bs4 import BeautifulSoup\n",
    "import requests\n",
    "from urllib.parse import urljoin\n",
    "url_list = pd.read_csv('./data/series_urls.csv')"
   ]
  },
  {
   "cell_type": "code",
   "execution_count": null,
   "id": "e02f5727",
   "metadata": {},
   "outputs": [],
   "source": [
    "base_url = 'https://en.wikipedia.org/'\n",
    "\n",
    "# Go through the list of URLs for each series.\n",
    "for index, row in url_list.iterrows():\n",
    "    series = row['Series']\n",
    "    # print(series)\n",
    "    soup = BeautifulSoup(urlopen(row['URL']))\n",
    "    cast_table = soup.find('table', class_='wikitable')\n",
    "    rows = cast_table.find_all('tr')\n",
    "\n",
    "    # Loop through each row in the table that contains housewife data.\n",
    "    for row in rows[2:]:\n",
    "        # Ignore Friends of the Housewives since they're not the main cast.\n",
    "        if row.text.strip().lower() == 'friends of the housewives':\n",
    "            break\n",
    "\n",
    "        # Get the table data that has the housewife's name.\n",
    "        td = row.find('td')\n",
    "\n",
    "        # Get the full name text and split it into two parts, then replace any apostrophes with double\n",
    "        # apostrophes to avoid SQL syntax errors.\n",
    "        name = td.text.strip()\n",
    "        name_parts = name.split(' ', 1)\n",
    "        first_name = name_parts[0].replace(\"'\", \"''\")\n",
    "        last_name = name_parts[1].replace(\"'\", \"''\")\n",
    "\n",
    "        birthdate = None # Reset the birthdate each loop, otherwise wrong birthdate may be carried over.\n",
    "\n",
    "        # Find the birthday of each housewife by checking if there's a hyperlink attached to their name.\n",
    "        housewife_url = td.find('a')\n",
    "        if housewife_url != None:\n",
    "            housewife_url = urljoin(base_url, housewife_url.get(\"href\"))\n",
    "            req = requests.get(housewife_url)\n",
    "            html = BeautifulSoup(req.text, 'html.parser')\n",
    "            biography_table = html.find('table', class_='infobox')\n",
    "            birthdate = biography_table.find('span', class_='bday')\n",
    "\n",
    "            # Replace birthdate with text found on page if there is one.\n",
    "            if birthdate != None:\n",
    "                birthdate = birthdate.text\n",
    "            \n",
    "        print(f\"('{first_name}', '{last_name}', '{birthdate}', null),\")"
   ]
  }
 ],
 "metadata": {
  "kernelspec": {
   "display_name": "base",
   "language": "python",
   "name": "python3"
  },
  "language_info": {
   "codemirror_mode": {
    "name": "ipython",
    "version": 3
   },
   "file_extension": ".py",
   "mimetype": "text/x-python",
   "name": "python",
   "nbconvert_exporter": "python",
   "pygments_lexer": "ipython3",
   "version": "3.8.8"
  }
 },
 "nbformat": 4,
 "nbformat_minor": 5
}
