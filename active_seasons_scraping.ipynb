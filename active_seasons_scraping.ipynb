{
 "cells": [
  {
   "cell_type": "markdown",
   "id": "38f9ad85",
   "metadata": {},
   "source": [
    "# Active Seasons\n",
    "\n",
    "Prints seasons that a housewife was active in a main role.\n",
    "\n",
    "## Import Libraries"
   ]
  },
  {
   "cell_type": "code",
   "execution_count": 9,
   "id": "7c89c52d",
   "metadata": {},
   "outputs": [],
   "source": [
    "import pandas as pd\n",
    "from urllib.request import urlopen\n",
    "from bs4 import BeautifulSoup\n",
    "import re\n",
    "url_list = pd.read_csv('./data/series_urls.csv')"
   ]
  },
  {
   "cell_type": "markdown",
   "id": "3e801c61",
   "metadata": {},
   "source": [
    "## Scrape Table Data and Print"
   ]
  },
  {
   "cell_type": "code",
   "execution_count": null,
   "id": "4b12ad39",
   "metadata": {},
   "outputs": [],
   "source": [
    "# Loop through the list of URLs for each series.\n",
    "for index, row in url_list.iterrows():\n",
    "    series = row['Series']\n",
    "    soup = BeautifulSoup(urlopen(row['URL']))\n",
    "    table = soup.find('table', class_='wikitable')\n",
    "    rows = table.find_all('tr')\n",
    "\n",
    "    # Loop through rows containing a housewife's name and their active seasons.\n",
    "    for row in rows[2:]:\n",
    "        # Ignore Friends of the Housewives since they're not the main cast.\n",
    "        if row.text.strip().lower() == 'friends of the housewives':\n",
    "            break\n",
    "\n",
    "        tds = row.find_all('td')\n",
    "        name = tds[0].text.strip()\n",
    "        name_parts = name.split(' ', 1)\n",
    "        first_name = name_parts[0].replace(\"'\", \"''\")\n",
    "        last_name = name_parts[1].replace(\"'\", \"''\")\n",
    "\n",
    "        # Elizabeth Lyn Vargas is the only housewife whose credited middle name is not part of a double surname.\n",
    "        if last_name == 'Lyn Vargas':\n",
    "            first_name = 'Elizabeth Lyn'\n",
    "            last_name = 'Vargas'\n",
    "\n",
    "        count = 1\n",
    "\n",
    "        for td in tds[1:]:\n",
    "            role = td.text.strip()\n",
    "\n",
    "            # Get the number of columns that the role spans.\n",
    "            columns = td.get('colspan')\n",
    "\n",
    "            # Remove non-number characters.\n",
    "            columns = re.findall(r'\\d+', columns)[0]\n",
    "            columns = int(columns)\n",
    "\n",
    "            # Ignore seasons where a housewife did not appear in a main role but\n",
    "            # add to count so we know what season we are on if they do later.\n",
    "            if role == '' or role == 'Guest' or role == 'Friend':\n",
    "                count += columns\n",
    "                continue\n",
    "            \n",
    "            for i in range(columns):\n",
    "                print(f\"\"\"(\n",
    "    (\n",
    "        SELECT\n",
    "            season_id\n",
    "        FROM\n",
    "            seasons\n",
    "        WHERE\n",
    "            series_id = '{series}'\n",
    "            AND season_number = {count + i}\n",
    "    ),\n",
    "    (\n",
    "        SELECT\n",
    "            housewife_id\n",
    "        FROM\n",
    "            housewives\n",
    "        WHERE\n",
    "            first_name = '{first_name}'\n",
    "            AND last_name = '{last_name}'\n",
    "    )\n",
    "),\"\"\")\n",
    "            count += columns\n",
    "\n",
    "            # print(f\"Active Seasons: {count - 1}\")"
   ]
  }
 ],
 "metadata": {
  "kernelspec": {
   "display_name": "base",
   "language": "python",
   "name": "python3"
  },
  "language_info": {
   "codemirror_mode": {
    "name": "ipython",
    "version": 3
   },
   "file_extension": ".py",
   "mimetype": "text/x-python",
   "name": "python",
   "nbconvert_exporter": "python",
   "pygments_lexer": "ipython3",
   "version": "3.8.8"
  }
 },
 "nbformat": 4,
 "nbformat_minor": 5
}
